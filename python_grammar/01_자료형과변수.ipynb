{
 "cells": [
  {
   "cell_type": "markdown",
   "id": "b5b3c974",
   "metadata": {},
   "source": [
    "# 사칙연산"
   ]
  },
  {
   "cell_type": "code",
   "execution_count": 5,
   "id": "a24a5615",
   "metadata": {},
   "outputs": [
    {
     "name": "stdout",
     "output_type": "stream",
     "text": [
      "0\n"
     ]
    }
   ],
   "source": [
    "a = 123\n",
    "a = -178\n",
    "a = 0\n",
    "print(a)"
   ]
  },
  {
   "cell_type": "code",
   "execution_count": 6,
   "id": "588187e8",
   "metadata": {},
   "outputs": [
    {
     "name": "stdout",
     "output_type": "stream",
     "text": [
      "42400000000.0\n"
     ]
    }
   ],
   "source": [
    "a = 4.24E10\n",
    "print(a)"
   ]
  },
  {
   "cell_type": "code",
   "execution_count": 7,
   "id": "f6cb91db",
   "metadata": {},
   "outputs": [
    {
     "name": "stdout",
     "output_type": "stream",
     "text": [
      "127\n"
     ]
    }
   ],
   "source": [
    "a = 0o177\n",
    "print(a)"
   ]
  },
  {
   "cell_type": "code",
   "execution_count": 8,
   "id": "2fe8987b",
   "metadata": {},
   "outputs": [
    {
     "name": "stdout",
     "output_type": "stream",
     "text": [
      "2303\n",
      "2748\n"
     ]
    }
   ],
   "source": [
    "a = 0x8ff\n",
    "b = 0xABC\n",
    "print(a)\n",
    "print(b)"
   ]
  },
  {
   "cell_type": "code",
   "execution_count": 9,
   "id": "089c930e",
   "metadata": {},
   "outputs": [
    {
     "data": {
      "text/plain": [
       "7"
      ]
     },
     "execution_count": 9,
     "metadata": {},
     "output_type": "execute_result"
    }
   ],
   "source": [
    "a = 3\n",
    "b = 4\n",
    "a + b"
   ]
  },
  {
   "cell_type": "code",
   "execution_count": 10,
   "id": "da1d3a23",
   "metadata": {},
   "outputs": [
    {
     "data": {
      "text/plain": [
       "-1"
      ]
     },
     "execution_count": 10,
     "metadata": {},
     "output_type": "execute_result"
    }
   ],
   "source": [
    "a-b"
   ]
  },
  {
   "cell_type": "code",
   "execution_count": 11,
   "id": "3511bacf",
   "metadata": {},
   "outputs": [
    {
     "data": {
      "text/plain": [
       "12"
      ]
     },
     "execution_count": 11,
     "metadata": {},
     "output_type": "execute_result"
    }
   ],
   "source": [
    "a*b"
   ]
  },
  {
   "cell_type": "code",
   "execution_count": 12,
   "id": "384c5a26",
   "metadata": {},
   "outputs": [
    {
     "data": {
      "text/plain": [
       "0.75"
      ]
     },
     "execution_count": 12,
     "metadata": {},
     "output_type": "execute_result"
    }
   ],
   "source": [
    "a/b"
   ]
  },
  {
   "cell_type": "markdown",
   "id": "77a1fac0",
   "metadata": {},
   "source": [
    "# 제곱연산"
   ]
  },
  {
   "cell_type": "code",
   "execution_count": 15,
   "id": "cdef3672",
   "metadata": {},
   "outputs": [
    {
     "data": {
      "text/plain": [
       "81"
      ]
     },
     "execution_count": 15,
     "metadata": {},
     "output_type": "execute_result"
    }
   ],
   "source": [
    "a ** b"
   ]
  },
  {
   "cell_type": "markdown",
   "id": "5d9b64dc",
   "metadata": {},
   "source": [
    "# 나머지연산"
   ]
  },
  {
   "cell_type": "code",
   "execution_count": 14,
   "id": "205d6855",
   "metadata": {},
   "outputs": [
    {
     "data": {
      "text/plain": [
       "1"
      ]
     },
     "execution_count": 14,
     "metadata": {},
     "output_type": "execute_result"
    }
   ],
   "source": [
    "b%a"
   ]
  },
  {
   "cell_type": "code",
   "execution_count": 16,
   "id": "851492a3",
   "metadata": {},
   "outputs": [
    {
     "data": {
      "text/plain": [
       "1"
      ]
     },
     "execution_count": 16,
     "metadata": {},
     "output_type": "execute_result"
    }
   ],
   "source": [
    "7 % 3"
   ]
  },
  {
   "cell_type": "markdown",
   "id": "6dcf39ef",
   "metadata": {},
   "source": [
    "# 몫 연산"
   ]
  },
  {
   "cell_type": "code",
   "execution_count": 17,
   "id": "92251a58",
   "metadata": {},
   "outputs": [
    {
     "data": {
      "text/plain": [
       "1.75"
      ]
     },
     "execution_count": 17,
     "metadata": {},
     "output_type": "execute_result"
    }
   ],
   "source": [
    "7 / 4"
   ]
  },
  {
   "cell_type": "code",
   "execution_count": 18,
   "id": "157e0b77",
   "metadata": {},
   "outputs": [
    {
     "data": {
      "text/plain": [
       "1"
      ]
     },
     "execution_count": 18,
     "metadata": {},
     "output_type": "execute_result"
    }
   ],
   "source": [
    "7 // 4"
   ]
  },
  {
   "cell_type": "markdown",
   "id": "cce6ca61",
   "metadata": {},
   "source": [
    "# 문자열 자료형"
   ]
  },
  {
   "cell_type": "code",
   "execution_count": 19,
   "id": "1a8ce8f0",
   "metadata": {},
   "outputs": [
    {
     "data": {
      "text/plain": [
       "'Life is too short, You need Python'"
      ]
     },
     "execution_count": 19,
     "metadata": {},
     "output_type": "execute_result"
    }
   ],
   "source": [
    "\"Life is too short, You need Python\""
   ]
  },
  {
   "cell_type": "code",
   "execution_count": 20,
   "id": "d4b95951",
   "metadata": {},
   "outputs": [
    {
     "data": {
      "text/plain": [
       "'a'"
      ]
     },
     "execution_count": 20,
     "metadata": {},
     "output_type": "execute_result"
    }
   ],
   "source": [
    "\"a\""
   ]
  },
  {
   "cell_type": "code",
   "execution_count": 21,
   "id": "f87376dd",
   "metadata": {},
   "outputs": [
    {
     "data": {
      "text/plain": [
       "'123456789'"
      ]
     },
     "execution_count": 21,
     "metadata": {},
     "output_type": "execute_result"
    }
   ],
   "source": [
    "\"123456789\""
   ]
  },
  {
   "cell_type": "code",
   "execution_count": 22,
   "id": "166ecf8a",
   "metadata": {},
   "outputs": [
    {
     "data": {
      "text/plain": [
       "'Hello World'"
      ]
     },
     "execution_count": 22,
     "metadata": {},
     "output_type": "execute_result"
    }
   ],
   "source": [
    "\"Hello World\""
   ]
  },
  {
   "cell_type": "markdown",
   "id": "37582987",
   "metadata": {},
   "source": [
    "# 문자열 안에 작은 따옴표나 큰 따옴표를 포함시키고 싶을 때"
   ]
  },
  {
   "cell_type": "code",
   "execution_count": 23,
   "id": "98cdce6f",
   "metadata": {},
   "outputs": [
    {
     "data": {
      "text/plain": [
       "\"Python's favorite food is perl\""
      ]
     },
     "execution_count": 23,
     "metadata": {},
     "output_type": "execute_result"
    }
   ],
   "source": [
    "\"Python's favorite food is perl\""
   ]
  },
  {
   "cell_type": "code",
   "execution_count": 28,
   "id": "561384d5",
   "metadata": {},
   "outputs": [
    {
     "data": {
      "text/plain": [
       "\"Python's favorite food is perl\""
      ]
     },
     "execution_count": 28,
     "metadata": {},
     "output_type": "execute_result"
    }
   ],
   "source": [
    "'Python\\'s favorite food is perl'"
   ]
  },
  {
   "cell_type": "code",
   "execution_count": 29,
   "id": "afff5e65",
   "metadata": {},
   "outputs": [
    {
     "data": {
      "text/plain": [
       "'\"Python is very easy. \" he says. '"
      ]
     },
     "execution_count": 29,
     "metadata": {},
     "output_type": "execute_result"
    }
   ],
   "source": [
    "\"\\\"Python is very easy. \\\" he says. \""
   ]
  },
  {
   "cell_type": "code",
   "execution_count": 1,
   "id": "c5f95f0c",
   "metadata": {},
   "outputs": [],
   "source": [
    "multiline = \"Life is too short\\nYou need python\""
   ]
  },
  {
   "cell_type": "code",
   "execution_count": 2,
   "id": "017165d3",
   "metadata": {},
   "outputs": [
    {
     "name": "stdout",
     "output_type": "stream",
     "text": [
      "Life is too short\n",
      "You need python\n"
     ]
    }
   ],
   "source": [
    "print(multiline)"
   ]
  },
  {
   "cell_type": "markdown",
   "id": "58d34f13",
   "metadata": {},
   "source": [
    "# 문자열 연산하기"
   ]
  },
  {
   "cell_type": "code",
   "execution_count": 4,
   "id": "b0c8c59e",
   "metadata": {},
   "outputs": [],
   "source": [
    "head = \"Python\"\n",
    "tail = \" is Fun!\"\n",
    "full = head + tail"
   ]
  },
  {
   "cell_type": "code",
   "execution_count": 5,
   "id": "819ce8b7",
   "metadata": {},
   "outputs": [
    {
     "name": "stdout",
     "output_type": "stream",
     "text": [
      "Python is Fun!\n"
     ]
    }
   ],
   "source": [
    "print(full)"
   ]
  },
  {
   "cell_type": "code",
   "execution_count": 6,
   "id": "5c856fd1",
   "metadata": {},
   "outputs": [
    {
     "data": {
      "text/plain": [
       "'PythonPythonPythonPythonPython'"
      ]
     },
     "execution_count": 6,
     "metadata": {},
     "output_type": "execute_result"
    }
   ],
   "source": [
    "a= \"Python\"\n",
    "a*5"
   ]
  },
  {
   "cell_type": "code",
   "execution_count": 7,
   "id": "68598456",
   "metadata": {},
   "outputs": [
    {
     "data": {
      "text/plain": [
       "13"
      ]
     },
     "execution_count": 7,
     "metadata": {},
     "output_type": "execute_result"
    }
   ],
   "source": [
    "a= \"Life is short\"\n",
    "len(a)"
   ]
  },
  {
   "cell_type": "markdown",
   "id": "ac82207d",
   "metadata": {},
   "source": [
    "# 문자열 인덱싱"
   ]
  },
  {
   "cell_type": "code",
   "execution_count": 8,
   "id": "17b363fe",
   "metadata": {},
   "outputs": [],
   "source": [
    "a = \"Life is too short, You need Python\""
   ]
  },
  {
   "cell_type": "code",
   "execution_count": 9,
   "id": "526741c2",
   "metadata": {},
   "outputs": [
    {
     "data": {
      "text/plain": [
       "'e'"
      ]
     },
     "execution_count": 9,
     "metadata": {},
     "output_type": "execute_result"
    }
   ],
   "source": [
    "a[3]"
   ]
  },
  {
   "cell_type": "code",
   "execution_count": 10,
   "id": "a23551a8",
   "metadata": {},
   "outputs": [
    {
     "data": {
      "text/plain": [
       "'s'"
      ]
     },
     "execution_count": 10,
     "metadata": {},
     "output_type": "execute_result"
    }
   ],
   "source": [
    "a[12]"
   ]
  },
  {
   "cell_type": "code",
   "execution_count": 13,
   "id": "5ddd9afc",
   "metadata": {},
   "outputs": [
    {
     "data": {
      "text/plain": [
       "'n'"
      ]
     },
     "execution_count": 13,
     "metadata": {},
     "output_type": "execute_result"
    }
   ],
   "source": [
    "a[-1]"
   ]
  },
  {
   "cell_type": "markdown",
   "id": "ee2479f5",
   "metadata": {},
   "source": [
    "# 문자열 슬라이싱"
   ]
  },
  {
   "cell_type": "code",
   "execution_count": 14,
   "id": "e066d35b",
   "metadata": {},
   "outputs": [],
   "source": [
    "a = \"Life is too short, You need Python\""
   ]
  },
  {
   "cell_type": "code",
   "execution_count": 15,
   "id": "d025cb67",
   "metadata": {},
   "outputs": [
    {
     "data": {
      "text/plain": [
       "'Lif'"
      ]
     },
     "execution_count": 15,
     "metadata": {},
     "output_type": "execute_result"
    }
   ],
   "source": [
    "a[0:3]"
   ]
  },
  {
   "cell_type": "code",
   "execution_count": 16,
   "id": "41f1830f",
   "metadata": {},
   "outputs": [
    {
     "data": {
      "text/plain": [
       "'Life'"
      ]
     },
     "execution_count": 16,
     "metadata": {},
     "output_type": "execute_result"
    }
   ],
   "source": [
    "a[0:4]"
   ]
  },
  {
   "cell_type": "code",
   "execution_count": 25,
   "id": "3480896a",
   "metadata": {},
   "outputs": [
    {
     "data": {
      "text/plain": [
       "'too short'"
      ]
     },
     "execution_count": 25,
     "metadata": {},
     "output_type": "execute_result"
    }
   ],
   "source": [
    "a[8:17]"
   ]
  },
  {
   "cell_type": "code",
   "execution_count": 29,
   "id": "cbdfcdcb",
   "metadata": {},
   "outputs": [
    {
     "data": {
      "text/plain": [
       "', You need'"
      ]
     },
     "execution_count": 29,
     "metadata": {},
     "output_type": "execute_result"
    }
   ],
   "source": [
    "a[17:-7]"
   ]
  },
  {
   "cell_type": "markdown",
   "id": "9d3af105",
   "metadata": {},
   "source": [
    "# 슬라이싱으로 문자열 나누기"
   ]
  },
  {
   "cell_type": "code",
   "execution_count": 30,
   "id": "de0b25b2",
   "metadata": {},
   "outputs": [
    {
     "data": {
      "text/plain": [
       "('20230331', 'Rainy')"
      ]
     },
     "execution_count": 30,
     "metadata": {},
     "output_type": "execute_result"
    }
   ],
   "source": [
    "a = \"20230331Rainy\"\n",
    "date = a[:8]\n",
    "weather = a[8:]\n",
    "date, weather"
   ]
  },
  {
   "cell_type": "code",
   "execution_count": 31,
   "id": "08351eda",
   "metadata": {},
   "outputs": [
    {
     "data": {
      "text/plain": [
       "('2023', '0331', 'Rainy')"
      ]
     },
     "execution_count": 31,
     "metadata": {},
     "output_type": "execute_result"
    }
   ],
   "source": [
    "a = \"20230331Rainy\"\n",
    "year = a[:4]\n",
    "date = a[4:8]\n",
    "weather = a[8:]\n",
    "year, date, weather"
   ]
  },
  {
   "cell_type": "code",
   "execution_count": 32,
   "id": "c54d0093",
   "metadata": {},
   "outputs": [
    {
     "ename": "TypeError",
     "evalue": "'str' object does not support item assignment",
     "output_type": "error",
     "traceback": [
      "\u001b[1;31m---------------------------------------------------------------------------\u001b[0m",
      "\u001b[1;31mTypeError\u001b[0m                                 Traceback (most recent call last)",
      "Cell \u001b[1;32mIn[32], line 2\u001b[0m\n\u001b[0;32m      1\u001b[0m a \u001b[38;5;241m=\u001b[39m \u001b[38;5;124m\"\u001b[39m\u001b[38;5;124mPithon\u001b[39m\u001b[38;5;124m\"\u001b[39m\n\u001b[1;32m----> 2\u001b[0m a[\u001b[38;5;241m1\u001b[39m] \u001b[38;5;241m=\u001b[39m \u001b[38;5;124m\"\u001b[39m\u001b[38;5;124my\u001b[39m\u001b[38;5;124m\"\u001b[39m\n\u001b[0;32m      3\u001b[0m a\n",
      "\u001b[1;31mTypeError\u001b[0m: 'str' object does not support item assignment"
     ]
    }
   ],
   "source": [
    "a = \"Pithon\"\n",
    "a[1] = \"y\"\n",
    "a"
   ]
  },
  {
   "cell_type": "code",
   "execution_count": 33,
   "id": "da7cfef9",
   "metadata": {},
   "outputs": [
    {
     "data": {
      "text/plain": [
       "'P'"
      ]
     },
     "execution_count": 33,
     "metadata": {},
     "output_type": "execute_result"
    }
   ],
   "source": [
    "a[:1]"
   ]
  },
  {
   "cell_type": "code",
   "execution_count": 34,
   "id": "6b4127fa",
   "metadata": {},
   "outputs": [
    {
     "data": {
      "text/plain": [
       "'Python'"
      ]
     },
     "execution_count": 34,
     "metadata": {},
     "output_type": "execute_result"
    }
   ],
   "source": [
    "b = a[:1] + \"y\" +a[2:]\n",
    "b"
   ]
  },
  {
   "cell_type": "markdown",
   "id": "6df2b015",
   "metadata": {},
   "source": [
    "# 문자열 포매팅"
   ]
  },
  {
   "cell_type": "code",
   "execution_count": 35,
   "id": "399246c0",
   "metadata": {},
   "outputs": [
    {
     "data": {
      "text/plain": [
       "'I eat 3 apples.'"
      ]
     },
     "execution_count": 35,
     "metadata": {},
     "output_type": "execute_result"
    }
   ],
   "source": [
    "\"I eat %d apples.\"%3"
   ]
  },
  {
   "cell_type": "code",
   "execution_count": 37,
   "id": "69a6e18b",
   "metadata": {},
   "outputs": [
    {
     "data": {
      "text/plain": [
       "'I eat five apples.'"
      ]
     },
     "execution_count": 37,
     "metadata": {},
     "output_type": "execute_result"
    }
   ],
   "source": [
    "\"I eat %s apples.\"%\"five\""
   ]
  },
  {
   "cell_type": "code",
   "execution_count": 38,
   "id": "346ba432",
   "metadata": {},
   "outputs": [
    {
     "data": {
      "text/plain": [
       "'I eat 5 apples.'"
      ]
     },
     "execution_count": 38,
     "metadata": {},
     "output_type": "execute_result"
    }
   ],
   "source": [
    "\"I eat %s apples.\"%\"5\""
   ]
  },
  {
   "cell_type": "code",
   "execution_count": 39,
   "id": "b9d8b8ea",
   "metadata": {},
   "outputs": [
    {
     "data": {
      "text/plain": [
       "'I eat 3 apples.'"
      ]
     },
     "execution_count": 39,
     "metadata": {},
     "output_type": "execute_result"
    }
   ],
   "source": [
    "number = 3\n",
    "\"I eat %d apples.\" % number"
   ]
  },
  {
   "cell_type": "code",
   "execution_count": 40,
   "id": "c85342b2",
   "metadata": {},
   "outputs": [
    {
     "data": {
      "text/plain": [
       "'I ate 10 apples. so I was sick for three days.'"
      ]
     },
     "execution_count": 40,
     "metadata": {},
     "output_type": "execute_result"
    }
   ],
   "source": [
    "number = 10\n",
    "day = \"three\"\n",
    "\"I ate %d apples. so I was sick for %s days.\" % (number, day)"
   ]
  },
  {
   "cell_type": "code",
   "execution_count": 41,
   "id": "d5041f8a",
   "metadata": {},
   "outputs": [
    {
     "data": {
      "text/plain": [
       "'rate is 3.234'"
      ]
     },
     "execution_count": 41,
     "metadata": {},
     "output_type": "execute_result"
    }
   ],
   "source": [
    "\"rate is %s\" % 3.234"
   ]
  },
  {
   "cell_type": "code",
   "execution_count": 42,
   "id": "515cd84f",
   "metadata": {},
   "outputs": [
    {
     "data": {
      "text/plain": [
       "'오늘의 습도는 70% 입니다'"
      ]
     },
     "execution_count": 42,
     "metadata": {},
     "output_type": "execute_result"
    }
   ],
   "source": [
    "\"오늘의 습도는 %d%% 입니다\"%70"
   ]
  },
  {
   "cell_type": "markdown",
   "id": "5fa582b7",
   "metadata": {},
   "source": [
    "# 포맷 코드와 숫자 함께 사용하기"
   ]
  },
  {
   "cell_type": "code",
   "execution_count": 43,
   "id": "7b474614",
   "metadata": {},
   "outputs": [
    {
     "data": {
      "text/plain": [
       "'        hi'"
      ]
     },
     "execution_count": 43,
     "metadata": {},
     "output_type": "execute_result"
    }
   ],
   "source": [
    "\"%10s\" % \"hi\""
   ]
  },
  {
   "cell_type": "code",
   "execution_count": 44,
   "id": "878e3a0c",
   "metadata": {},
   "outputs": [
    {
     "data": {
      "text/plain": [
       "'hi        jane.'"
      ]
     },
     "execution_count": 44,
     "metadata": {},
     "output_type": "execute_result"
    }
   ],
   "source": [
    "\"%-10sjane.\" % 'hi'"
   ]
  },
  {
   "cell_type": "markdown",
   "id": "1207a3d6",
   "metadata": {},
   "source": [
    "# 소수점 표현하기"
   ]
  },
  {
   "cell_type": "code",
   "execution_count": 45,
   "id": "c0ebe560",
   "metadata": {},
   "outputs": [
    {
     "data": {
      "text/plain": [
       "'3.4213'"
      ]
     },
     "execution_count": 45,
     "metadata": {},
     "output_type": "execute_result"
    }
   ],
   "source": [
    "\"%0.4f\" % 3.42134234"
   ]
  },
  {
   "cell_type": "code",
   "execution_count": 46,
   "id": "0fc82e01",
   "metadata": {},
   "outputs": [
    {
     "data": {
      "text/plain": [
       "'    3.4213'"
      ]
     },
     "execution_count": 46,
     "metadata": {},
     "output_type": "execute_result"
    }
   ],
   "source": [
    "\"%10.4f\" % 3.42134234"
   ]
  },
  {
   "cell_type": "markdown",
   "id": "4747a6a4",
   "metadata": {},
   "source": [
    "# format 함수를 사용한 포매팅"
   ]
  },
  {
   "cell_type": "code",
   "execution_count": 47,
   "id": "1c5d5fc5",
   "metadata": {},
   "outputs": [
    {
     "data": {
      "text/plain": [
       "'I eat 3 apples'"
      ]
     },
     "execution_count": 47,
     "metadata": {},
     "output_type": "execute_result"
    }
   ],
   "source": [
    "\"I eat {0} apples\".format(3)"
   ]
  },
  {
   "cell_type": "code",
   "execution_count": 48,
   "id": "2daa277c",
   "metadata": {},
   "outputs": [
    {
     "data": {
      "text/plain": [
       "'I eat five apples'"
      ]
     },
     "execution_count": 48,
     "metadata": {},
     "output_type": "execute_result"
    }
   ],
   "source": [
    "\"I eat {0} apples\".format(\"five\")"
   ]
  },
  {
   "cell_type": "code",
   "execution_count": 49,
   "id": "53806271",
   "metadata": {},
   "outputs": [
    {
     "data": {
      "text/plain": [
       "'I eat 3 apples'"
      ]
     },
     "execution_count": 49,
     "metadata": {},
     "output_type": "execute_result"
    }
   ],
   "source": [
    "number = 3\n",
    "\"I eat {0} apples\".format(number)"
   ]
  },
  {
   "cell_type": "code",
   "execution_count": 50,
   "id": "6b233a93",
   "metadata": {},
   "outputs": [
    {
     "data": {
      "text/plain": [
       "'I ate 10 apples. so I was sick for three days.'"
      ]
     },
     "execution_count": 50,
     "metadata": {},
     "output_type": "execute_result"
    }
   ],
   "source": [
    "number = 10\n",
    "day = \"three\"\n",
    "\"I ate {0} apples. so I was sick for {1} days.\".format(number, day)"
   ]
  },
  {
   "cell_type": "code",
   "execution_count": 51,
   "id": "4bcd843d",
   "metadata": {},
   "outputs": [
    {
     "data": {
      "text/plain": [
       "'I ate 10 apples. so I was sick for 3 days.'"
      ]
     },
     "execution_count": 51,
     "metadata": {},
     "output_type": "execute_result"
    }
   ],
   "source": [
    "\"I ate {number} apples. so I was sick for {day} days.\".format(number=10, day=3)"
   ]
  },
  {
   "cell_type": "code",
   "execution_count": 52,
   "id": "86e7f93a",
   "metadata": {},
   "outputs": [
    {
     "data": {
      "text/plain": [
       "'I ate 10 apples. so I was sick for 3 days.'"
      ]
     },
     "execution_count": 52,
     "metadata": {},
     "output_type": "execute_result"
    }
   ],
   "source": [
    "\"I ate {0} apples. so I was sick for {day} days.\".format(10, day=3)"
   ]
  },
  {
   "cell_type": "markdown",
   "id": "1879f82a",
   "metadata": {},
   "source": [
    "# 소수점 표현하기"
   ]
  },
  {
   "cell_type": "code",
   "execution_count": 53,
   "id": "a8f0bbbd",
   "metadata": {},
   "outputs": [
    {
     "data": {
      "text/plain": [
       "'3.4213'"
      ]
     },
     "execution_count": 53,
     "metadata": {},
     "output_type": "execute_result"
    }
   ],
   "source": [
    "y = 3.42134234\n",
    "\"{0:0.4f}\".format(y)"
   ]
  },
  {
   "cell_type": "markdown",
   "id": "61e58e92",
   "metadata": {},
   "source": [
    "# f 문자열 포매팅(강추)"
   ]
  },
  {
   "cell_type": "code",
   "execution_count": 54,
   "id": "70c9e02b",
   "metadata": {},
   "outputs": [
    {
     "data": {
      "text/plain": [
       "'나의 이름은 홍길동입니다. 나이는 30입니다.'"
      ]
     },
     "execution_count": 54,
     "metadata": {},
     "output_type": "execute_result"
    }
   ],
   "source": [
    "name = '홍길동'\n",
    "age = 30\n",
    "f'나의 이름은 {name}입니다. 나이는 {age}입니다.'"
   ]
  },
  {
   "cell_type": "code",
   "execution_count": 55,
   "id": "ecf054fc",
   "metadata": {},
   "outputs": [
    {
     "data": {
      "text/plain": [
       "'나는 내년이면 31살이 된다.'"
      ]
     },
     "execution_count": 55,
     "metadata": {},
     "output_type": "execute_result"
    }
   ],
   "source": [
    "age = 30\n",
    "f'나는 내년이면 {age + 1}살이 된다.'"
   ]
  },
  {
   "cell_type": "code",
   "execution_count": 57,
   "id": "67a7828a",
   "metadata": {},
   "outputs": [
    {
     "data": {
      "text/plain": [
       "'나의 이름은 홍길동입니다. 나이는 30입니다.'"
      ]
     },
     "execution_count": 57,
     "metadata": {},
     "output_type": "execute_result"
    }
   ],
   "source": [
    "d = {'name':'홍길동', 'age':30}\n",
    "f'나의 이름은 {d[\"name\"]}입니다. 나이는 {d[\"age\"]}입니다.'"
   ]
  },
  {
   "cell_type": "markdown",
   "id": "856a84ef",
   "metadata": {},
   "source": [
    "# 문자열 관련 함수들"
   ]
  },
  {
   "cell_type": "code",
   "execution_count": 58,
   "id": "b93e2b32",
   "metadata": {},
   "outputs": [
    {
     "data": {
      "text/plain": [
       "2"
      ]
     },
     "execution_count": 58,
     "metadata": {},
     "output_type": "execute_result"
    }
   ],
   "source": [
    " a = \"hobby\"\n",
    "a.count('b')"
   ]
  },
  {
   "cell_type": "code",
   "execution_count": 59,
   "id": "3a385955",
   "metadata": {},
   "outputs": [
    {
     "data": {
      "text/plain": [
       "14"
      ]
     },
     "execution_count": 59,
     "metadata": {},
     "output_type": "execute_result"
    }
   ],
   "source": [
    "a = \"Python is the best choice\"\n",
    "a.find('b')"
   ]
  },
  {
   "cell_type": "code",
   "execution_count": 60,
   "id": "0654d2ee",
   "metadata": {},
   "outputs": [
    {
     "data": {
      "text/plain": [
       "-1"
      ]
     },
     "execution_count": 60,
     "metadata": {},
     "output_type": "execute_result"
    }
   ],
   "source": [
    "a.find('k')"
   ]
  },
  {
   "cell_type": "code",
   "execution_count": 61,
   "id": "4fd0bd05",
   "metadata": {},
   "outputs": [
    {
     "data": {
      "text/plain": [
       "8"
      ]
     },
     "execution_count": 61,
     "metadata": {},
     "output_type": "execute_result"
    }
   ],
   "source": [
    "a = \"Life is too short\"\n",
    "a.index('t')"
   ]
  },
  {
   "cell_type": "code",
   "execution_count": 62,
   "id": "14cb20ba",
   "metadata": {},
   "outputs": [
    {
     "ename": "ValueError",
     "evalue": "substring not found",
     "output_type": "error",
     "traceback": [
      "\u001b[1;31m---------------------------------------------------------------------------\u001b[0m",
      "\u001b[1;31mValueError\u001b[0m                                Traceback (most recent call last)",
      "Cell \u001b[1;32mIn[62], line 1\u001b[0m\n\u001b[1;32m----> 1\u001b[0m a\u001b[38;5;241m.\u001b[39mindex(\u001b[38;5;124m'\u001b[39m\u001b[38;5;124mk\u001b[39m\u001b[38;5;124m'\u001b[39m)\n",
      "\u001b[1;31mValueError\u001b[0m: substring not found"
     ]
    }
   ],
   "source": [
    "a.index('k')"
   ]
  },
  {
   "cell_type": "markdown",
   "id": "102668a8",
   "metadata": {},
   "source": [
    "#### find와 index의 가장 큰 차이점은 index는 없는 정보를 입력하면 에러가 난다."
   ]
  },
  {
   "cell_type": "code",
   "execution_count": 63,
   "id": "71aa9d91",
   "metadata": {},
   "outputs": [
    {
     "data": {
      "text/plain": [
       "'a,b,c,d'"
      ]
     },
     "execution_count": 63,
     "metadata": {},
     "output_type": "execute_result"
    }
   ],
   "source": [
    "\",\".join('abcd')"
   ]
  },
  {
   "cell_type": "code",
   "execution_count": 65,
   "id": "1a857296",
   "metadata": {},
   "outputs": [
    {
     "data": {
      "text/plain": [
       "'HI'"
      ]
     },
     "execution_count": 65,
     "metadata": {},
     "output_type": "execute_result"
    }
   ],
   "source": [
    "# 소문자를 대문자로 바꾸기\n",
    "x = \"hi\"\n",
    "x.upper()"
   ]
  },
  {
   "cell_type": "code",
   "execution_count": 66,
   "id": "bf196f7f",
   "metadata": {},
   "outputs": [
    {
     "data": {
      "text/plain": [
       "'hi'"
      ]
     },
     "execution_count": 66,
     "metadata": {},
     "output_type": "execute_result"
    }
   ],
   "source": [
    "a = \"HI\"\n",
    "a.lower()"
   ]
  },
  {
   "cell_type": "code",
   "execution_count": 68,
   "id": "a5e73e4f",
   "metadata": {},
   "outputs": [
    {
     "data": {
      "text/plain": [
       "' hi'"
      ]
     },
     "execution_count": 68,
     "metadata": {},
     "output_type": "execute_result"
    }
   ],
   "source": [
    "# 왼쪽 공백 지우기 Lstrip\n",
    "a= \" hi \"\n",
    "a"
   ]
  },
  {
   "cell_type": "code",
   "execution_count": 69,
   "id": "c3ee4948",
   "metadata": {},
   "outputs": [
    {
     "data": {
      "text/plain": [
       "'hi'"
      ]
     },
     "execution_count": 69,
     "metadata": {},
     "output_type": "execute_result"
    }
   ],
   "source": [
    "a.lstrip()"
   ]
  },
  {
   "cell_type": "code",
   "execution_count": 71,
   "id": "3f98038c",
   "metadata": {},
   "outputs": [
    {
     "data": {
      "text/plain": [
       "' hi'"
      ]
     },
     "execution_count": 71,
     "metadata": {},
     "output_type": "execute_result"
    }
   ],
   "source": [
    "a.rstrip()"
   ]
  },
  {
   "cell_type": "code",
   "execution_count": 72,
   "id": "e854edb2",
   "metadata": {},
   "outputs": [
    {
     "data": {
      "text/plain": [
       "'hi'"
      ]
     },
     "execution_count": 72,
     "metadata": {},
     "output_type": "execute_result"
    }
   ],
   "source": [
    "a.strip()"
   ]
  },
  {
   "cell_type": "markdown",
   "id": "0b152246",
   "metadata": {},
   "source": [
    "# 문자열 바꾸기 replace"
   ]
  },
  {
   "cell_type": "code",
   "execution_count": 73,
   "id": "a51f998d",
   "metadata": {},
   "outputs": [
    {
     "data": {
      "text/plain": [
       "'Your leg is too short'"
      ]
     },
     "execution_count": 73,
     "metadata": {},
     "output_type": "execute_result"
    }
   ],
   "source": [
    "a = \"Life is too short\"\n",
    "a.replace(\"Life\", \"Your leg\")"
   ]
  },
  {
   "cell_type": "code",
   "execution_count": 74,
   "id": "cb90d172",
   "metadata": {},
   "outputs": [
    {
     "data": {
      "text/plain": [
       "'Life is too short'"
      ]
     },
     "execution_count": 74,
     "metadata": {},
     "output_type": "execute_result"
    }
   ],
   "source": [
    "a"
   ]
  },
  {
   "cell_type": "markdown",
   "id": "ade843e5",
   "metadata": {},
   "source": [
    "# 문자열 나누기 split"
   ]
  },
  {
   "cell_type": "code",
   "execution_count": 75,
   "id": "1786aac5",
   "metadata": {},
   "outputs": [
    {
     "data": {
      "text/plain": [
       "['Life', 'is', 'too', 'short']"
      ]
     },
     "execution_count": 75,
     "metadata": {},
     "output_type": "execute_result"
    }
   ],
   "source": [
    "a = \"Life is too short\"\n",
    "a.split()"
   ]
  },
  {
   "cell_type": "code",
   "execution_count": 76,
   "id": "71292363",
   "metadata": {},
   "outputs": [
    {
     "data": {
      "text/plain": [
       "['a', 'b', 'c', 'd']"
      ]
     },
     "execution_count": 76,
     "metadata": {},
     "output_type": "execute_result"
    }
   ],
   "source": [
    "b = \"a:b:c:d\"\n",
    "b.split(':')"
   ]
  },
  {
   "cell_type": "markdown",
   "id": "873f7bc8",
   "metadata": {},
   "source": [
    "  # 변수"
   ]
  },
  {
   "cell_type": "code",
   "execution_count": 77,
   "id": "fbfd480b",
   "metadata": {},
   "outputs": [
    {
     "data": {
      "text/plain": [
       "(1, int)"
      ]
     },
     "execution_count": 77,
     "metadata": {},
     "output_type": "execute_result"
    }
   ],
   "source": [
    "a = 1\n",
    "a, type(a)"
   ]
  },
  {
   "cell_type": "code",
   "execution_count": 78,
   "id": "7f2ebc1b",
   "metadata": {},
   "outputs": [
    {
     "data": {
      "text/plain": [
       "('python', str)"
      ]
     },
     "execution_count": 78,
     "metadata": {},
     "output_type": "execute_result"
    }
   ],
   "source": [
    "b = \"python\"\n",
    "b,type(b)"
   ]
  },
  {
   "cell_type": "code",
   "execution_count": 79,
   "id": "9781de61",
   "metadata": {},
   "outputs": [
    {
     "data": {
      "text/plain": [
       "([1, 2, 3], list)"
      ]
     },
     "execution_count": 79,
     "metadata": {},
     "output_type": "execute_result"
    }
   ],
   "source": [
    "c = [1,2,3]\n",
    "c,type(c)"
   ]
  },
  {
   "cell_type": "code",
   "execution_count": 80,
   "id": "6d21e118",
   "metadata": {},
   "outputs": [
    {
     "data": {
      "text/plain": [
       "140711526044456"
      ]
     },
     "execution_count": 80,
     "metadata": {},
     "output_type": "execute_result"
    }
   ],
   "source": [
    "id(a)"
   ]
  },
  {
   "cell_type": "code",
   "execution_count": 85,
   "id": "091db849",
   "metadata": {},
   "outputs": [],
   "source": [
    "# 문자열 복사\n",
    "a = [1, 2, 3]\n",
    "b = a"
   ]
  },
  {
   "cell_type": "code",
   "execution_count": 86,
   "id": "f5976e1e",
   "metadata": {},
   "outputs": [
    {
     "data": {
      "text/plain": [
       "(1437962203584, 1437962203584)"
      ]
     },
     "execution_count": 86,
     "metadata": {},
     "output_type": "execute_result"
    }
   ],
   "source": [
    "id(a), id(b)"
   ]
  },
  {
   "cell_type": "code",
   "execution_count": 87,
   "id": "fa368665",
   "metadata": {},
   "outputs": [
    {
     "data": {
      "text/plain": [
       "True"
      ]
     },
     "execution_count": 87,
     "metadata": {},
     "output_type": "execute_result"
    }
   ],
   "source": [
    "a is b"
   ]
  },
  {
   "cell_type": "code",
   "execution_count": 88,
   "id": "06e82098",
   "metadata": {},
   "outputs": [
    {
     "data": {
      "text/plain": [
       "[1, 4, 3]"
      ]
     },
     "execution_count": 88,
     "metadata": {},
     "output_type": "execute_result"
    }
   ],
   "source": [
    "a[1] = 4\n",
    "a"
   ]
  },
  {
   "cell_type": "code",
   "execution_count": 89,
   "id": "ae590cce",
   "metadata": {},
   "outputs": [
    {
     "data": {
      "text/plain": [
       "[1, 4, 3]"
      ]
     },
     "execution_count": 89,
     "metadata": {},
     "output_type": "execute_result"
    }
   ],
   "source": [
    "b"
   ]
  },
  {
   "cell_type": "code",
   "execution_count": 90,
   "id": "b7b23dc8",
   "metadata": {},
   "outputs": [
    {
     "data": {
      "text/plain": [
       "10"
      ]
     },
     "execution_count": 90,
     "metadata": {},
     "output_type": "execute_result"
    }
   ],
   "source": [
    "num1 = 10\n",
    "num1"
   ]
  },
  {
   "cell_type": "code",
   "execution_count": 91,
   "id": "3a31d4f7",
   "metadata": {},
   "outputs": [
    {
     "data": {
      "text/plain": [
       "(10, 10)"
      ]
     },
     "execution_count": 91,
     "metadata": {},
     "output_type": "execute_result"
    }
   ],
   "source": [
    "num2 = num1\n",
    "num1, num2"
   ]
  },
  {
   "cell_type": "code",
   "execution_count": 92,
   "id": "b4684a53",
   "metadata": {},
   "outputs": [
    {
     "data": {
      "text/plain": [
       "(11, 10)"
      ]
     },
     "execution_count": 92,
     "metadata": {},
     "output_type": "execute_result"
    }
   ],
   "source": [
    "num1 = 11\n",
    "num1, num2"
   ]
  },
  {
   "cell_type": "markdown",
   "id": "1511834f",
   "metadata": {},
   "source": [
    "# copy"
   ]
  },
  {
   "cell_type": "code",
   "execution_count": 93,
   "id": "dbe19f05",
   "metadata": {},
   "outputs": [
    {
     "data": {
      "text/plain": [
       "[1, 2, 3]"
      ]
     },
     "execution_count": 93,
     "metadata": {},
     "output_type": "execute_result"
    }
   ],
   "source": [
    "from copy import copy\n",
    "a = [1, 2, 3]\n",
    "a"
   ]
  },
  {
   "cell_type": "code",
   "execution_count": 98,
   "id": "d0e42e69",
   "metadata": {},
   "outputs": [
    {
     "data": {
      "text/plain": [
       "(1437962229312, 1437962077824)"
      ]
     },
     "execution_count": 98,
     "metadata": {},
     "output_type": "execute_result"
    }
   ],
   "source": [
    "b = copy(a)\n",
    "id(a), id(b)"
   ]
  },
  {
   "cell_type": "code",
   "execution_count": 99,
   "id": "446f8760",
   "metadata": {},
   "outputs": [
    {
     "data": {
      "text/plain": [
       "False"
      ]
     },
     "execution_count": 99,
     "metadata": {},
     "output_type": "execute_result"
    }
   ],
   "source": [
    "b is a"
   ]
  },
  {
   "cell_type": "markdown",
   "id": "43325e07",
   "metadata": {},
   "source": [
    "# 변수를 만드는 여러가지 방법"
   ]
  },
  {
   "cell_type": "code",
   "execution_count": 101,
   "id": "4e4bb870",
   "metadata": {},
   "outputs": [],
   "source": [
    "a,b = (\"python\", \"life\")"
   ]
  },
  {
   "cell_type": "code",
   "execution_count": 102,
   "id": "33025e27",
   "metadata": {},
   "outputs": [
    {
     "data": {
      "text/plain": [
       "'python'"
      ]
     },
     "execution_count": 102,
     "metadata": {},
     "output_type": "execute_result"
    }
   ],
   "source": [
    "a"
   ]
  },
  {
   "cell_type": "code",
   "execution_count": 103,
   "id": "20a4f8c8",
   "metadata": {},
   "outputs": [
    {
     "data": {
      "text/plain": [
       "'life'"
      ]
     },
     "execution_count": 103,
     "metadata": {},
     "output_type": "execute_result"
    }
   ],
   "source": [
    "b"
   ]
  },
  {
   "cell_type": "code",
   "execution_count": null,
   "id": "18ba6426",
   "metadata": {},
   "outputs": [],
   "source": [
    "(a,b) = (\"python\", \"life\")"
   ]
  },
  {
   "cell_type": "code",
   "execution_count": null,
   "id": "0b63307e",
   "metadata": {},
   "outputs": [],
   "source": [
    "[a,b] = (\"python\", \"life\")"
   ]
  },
  {
   "cell_type": "code",
   "execution_count": 104,
   "id": "1c59db87",
   "metadata": {},
   "outputs": [
    {
     "data": {
      "text/plain": [
       "('python', 'life')"
      ]
     },
     "execution_count": 104,
     "metadata": {},
     "output_type": "execute_result"
    }
   ],
   "source": [
    "a,b"
   ]
  },
  {
   "cell_type": "code",
   "execution_count": null,
   "id": "61f7328c",
   "metadata": {},
   "outputs": [],
   "source": []
  },
  {
   "cell_type": "code",
   "execution_count": null,
   "id": "e3a57598",
   "metadata": {},
   "outputs": [],
   "source": []
  }
 ],
 "metadata": {
  "kernelspec": {
   "display_name": "Python 3 (ipykernel)",
   "language": "python",
   "name": "python3"
  },
  "language_info": {
   "codemirror_mode": {
    "name": "ipython",
    "version": 3
   },
   "file_extension": ".py",
   "mimetype": "text/x-python",
   "name": "python",
   "nbconvert_exporter": "python",
   "pygments_lexer": "ipython3",
   "version": "3.11.5"
  }
 },
 "nbformat": 4,
 "nbformat_minor": 5
}
