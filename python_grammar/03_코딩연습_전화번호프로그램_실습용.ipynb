{
 "cells": [
  {
   "cell_type": "markdown",
   "metadata": {},
   "source": [
    "# 전화번호 프로그램 만들기\n",
    "\n",
    "* 홍길동 010-123-4567\n",
    "* 기능1 : 연락처 추가\n",
    "* 기능2 : 연락처 전체 보기\n",
    "* 기능3 : 검색, 이름을 입력받아서 전화번호 조회\n",
    "* 기능4 : 수정, 이름을 입력받아서 전화번호 입력수정\n",
    "* 기능5 : 삭제, 이름 입력받아서 삭제\n",
    "* 기능6 : 프로그램 종료"
   ]
  },
  {
   "cell_type": "code",
   "execution_count": 10,
   "metadata": {},
   "outputs": [
    {
     "name": "stdout",
     "output_type": "stream",
     "text": [
      "\n",
      "기능1 : 연락처 추가\n",
      "기능2 : 연락처 전체 보기\n",
      "기능3 : 검색, 이름을 입력받아서 전화번호 조회\n",
      "기능4 : 수정, 이름을 입력받아서 전화번호 입력수정\n",
      "기능5 : 삭제, 이름 입력받아서 삭제\n",
      "기능6 : 프로그램 종료\n",
      "\n",
      "기능을 선택하시오: 1\n",
      "\n",
      "이름을 입력하시오: 짱구\n",
      "전화번호를 입력하세요: 010-1234-4567\n",
      "\n",
      "기능1 : 연락처 추가\n",
      "기능2 : 연락처 전체 보기\n",
      "기능3 : 검색, 이름을 입력받아서 전화번호 조회\n",
      "기능4 : 수정, 이름을 입력받아서 전화번호 입력수정\n",
      "기능5 : 삭제, 이름 입력받아서 삭제\n",
      "기능6 : 프로그램 종료\n",
      "\n",
      "기능을 선택하시오: 2\n",
      "\n",
      "{'홍길동': '010-123-4657', '짱구': '010-1234-4567'}\n",
      "\n",
      "기능1 : 연락처 추가\n",
      "기능2 : 연락처 전체 보기\n",
      "기능3 : 검색, 이름을 입력받아서 전화번호 조회\n",
      "기능4 : 수정, 이름을 입력받아서 전화번호 입력수정\n",
      "기능5 : 삭제, 이름 입력받아서 삭제\n",
      "기능6 : 프로그램 종료\n",
      "\n",
      "기능을 선택하시오: 6\n",
      "\n",
      "프로그램 종료\n"
     ]
    }
   ],
   "source": [
    "call = {'홍길동':'010-123-4657'}\n",
    "\n",
    "while True : \n",
    "    print(\"\")\n",
    "    print(\"기능1 : 연락처 추가\")\n",
    "    print(\"기능2 : 연락처 전체 보기\")\n",
    "    print(\"기능3 : 검색, 이름을 입력받아서 전화번호 조회\")\n",
    "    print(\"기능4 : 수정, 이름을 입력받아서 전화번호 입력수정\")\n",
    "    print(\"기능5 : 삭제, 이름 입력받아서 삭제\")\n",
    "    print(\"기능6 : 프로그램 종료\")\n",
    "    print(\"\")\n",
    "    number = input(\"기능을 선택하시오: \")\n",
    "    print(\"\")\n",
    "    \n",
    "    \n",
    "    if number == '1':\n",
    "        name = input(\"이름을 입력하시오: \")\n",
    "        phone = input(\"전화번호를 입력하세요: \")\n",
    "        call[name] = phone \n",
    "    elif number == '2' :\n",
    "        print(call)\n",
    "    elif number == '3' :\n",
    "        search = input(\"검색할 이름을 입력하시오: \")\n",
    "        if search in call :\n",
    "            print(f\"{search}의 전화번호는 {call[search]}입니다.\\n\")\n",
    "        else:\n",
    "            print(f\"{name}을 찾을 수 없습니다.\\n\")\n",
    "    elif number == '4' :\n",
    "        cor = input(\"수정할 이름을 입력하시오: \")\n",
    "        if cor in call :\n",
    "            new = input(\"수정할 전화번호를 입력하시오: \")\n",
    "            call[name] = new\n",
    "            print(f\"{cor}의 전화번호가 수정되었습니다.\\n\")\n",
    "        else:\n",
    "            print(f\"{cor}을 찾을 수 없습니다.\\n\")\n",
    "    elif number == '5' :\n",
    "        delete = input(\"삭제할 이름을 입력하시오: \")\n",
    "        if delete in call :\n",
    "            del call[delete] \n",
    "            print(f\"{delete}의 전화번호가 삭제되었습니다.\\n\")\n",
    "        else:\n",
    "            print(f\"{delete}을 찾을 수 없습니다.\\n\")\n",
    "    elif number == '6':\n",
    "        print(\"프로그램 종료\")\n",
    "        break\n",
    "    else:\n",
    "        print(\"다시 입력해주세요.\\n\")\n"
   ]
  },
  {
   "cell_type": "code",
   "execution_count": null,
   "metadata": {},
   "outputs": [],
   "source": []
  },
  {
   "cell_type": "code",
   "execution_count": null,
   "metadata": {},
   "outputs": [],
   "source": []
  },
  {
   "cell_type": "code",
   "execution_count": null,
   "metadata": {},
   "outputs": [],
   "source": []
  },
  {
   "cell_type": "code",
   "execution_count": null,
   "metadata": {},
   "outputs": [],
   "source": []
  },
  {
   "cell_type": "code",
   "execution_count": null,
   "metadata": {},
   "outputs": [],
   "source": []
  },
  {
   "cell_type": "code",
   "execution_count": null,
   "metadata": {},
   "outputs": [],
   "source": []
  },
  {
   "cell_type": "code",
   "execution_count": null,
   "metadata": {},
   "outputs": [],
   "source": []
  },
  {
   "cell_type": "code",
   "execution_count": null,
   "metadata": {},
   "outputs": [],
   "source": []
  }
 ],
 "metadata": {
  "kernelspec": {
   "display_name": "Python 3 (ipykernel)",
   "language": "python",
   "name": "python3"
  },
  "language_info": {
   "codemirror_mode": {
    "name": "ipython",
    "version": 3
   },
   "file_extension": ".py",
   "mimetype": "text/x-python",
   "name": "python",
   "nbconvert_exporter": "python",
   "pygments_lexer": "ipython3",
   "version": "3.11.5"
  },
  "toc": {
   "base_numbering": 1,
   "nav_menu": {},
   "number_sections": true,
   "sideBar": true,
   "skip_h1_title": false,
   "title_cell": "Table of Contents",
   "title_sidebar": "Contents",
   "toc_cell": false,
   "toc_position": {},
   "toc_section_display": true,
   "toc_window_display": false
  },
  "varInspector": {
   "cols": {
    "lenName": 16,
    "lenType": 16,
    "lenVar": 40
   },
   "kernels_config": {
    "python": {
     "delete_cmd_postfix": "",
     "delete_cmd_prefix": "del ",
     "library": "var_list.py",
     "varRefreshCmd": "print(var_dic_list())"
    },
    "r": {
     "delete_cmd_postfix": ") ",
     "delete_cmd_prefix": "rm(",
     "library": "var_list.r",
     "varRefreshCmd": "cat(var_dic_list()) "
    }
   },
   "types_to_exclude": [
    "module",
    "function",
    "builtin_function_or_method",
    "instance",
    "_Feature"
   ],
   "window_display": false
  }
 },
 "nbformat": 4,
 "nbformat_minor": 2
}
